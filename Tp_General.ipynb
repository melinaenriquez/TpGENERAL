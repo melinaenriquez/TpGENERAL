{
  "nbformat": 4,
  "nbformat_minor": 0,
  "metadata": {
    "colab": {
      "provenance": []
    },
    "kernelspec": {
      "name": "python3",
      "display_name": "Python 3"
    },
    "language_info": {
      "name": "python"
    }
  },
  "cells": [
    {
      "cell_type": "markdown",
      "source": [
        "## Desigualdad territorial y evolución de las muertes maternas en Buenos Aires (2009–2023)\n",
        "\n",
        "\n",
        "\n"
      ],
      "metadata": {
        "id": "VDvN_9WDkKZT"
      }
    },
    {
      "cell_type": "markdown",
      "source": [
        "La mortalidad materna es uno de los indicadores más importantes para evaluar el desempeño de los sistemas de salud, especialmente en relación con el acceso a servicios esenciales y la equidad territorial. En este análisis exploramos las defunciones maternas registradas en la provincia de Buenos Aires entre los años 2009 y 2023, utilizando una base de datos oficial que detalla año, municipio, región sanitaria, causa (según el CIE10) y clasificación como directa o indirecta.\n",
        "\n",
        "Nuestro objetivo es identificar patrones temporales, geográficos y por causa que nos permitan generar evidencia sobre posibles desigualdades en el acceso a atención sanitaria durante el embarazo, parto o puerperio. A través de gráficos y estadísticas, buscamos sustentar la hipótesis de que las muertes maternas indirectas han crecido en peso relativo, y que su distribución no es homogénea entre municipios."
      ],
      "metadata": {
        "id": "SSpPx5qbH7Ue"
      }
    },
    {
      "cell_type": "markdown",
      "source": [
        "## Primero vamos a cargar los paquetes y datos"
      ],
      "metadata": {
        "id": "Ger586v8HpPP"
      }
    },
    {
      "cell_type": "code",
      "source": [
        "import pandas as pd\n",
        "import matplotlib.pyplot as plt\n",
        "import seaborn as sns\n",
        "import numpy as np"
      ],
      "metadata": {
        "id": "8QVmgA9TGV07"
      },
      "execution_count": 11,
      "outputs": []
    },
    {
      "cell_type": "code",
      "source": [
        "from google.colab import drive\n",
        "drive.mount('/content/drive')"
      ],
      "metadata": {
        "colab": {
          "base_uri": "https://localhost:8080/"
        },
        "id": "Hzp_nNUzGkn9",
        "outputId": "d6ad2937-44a8-4bd8-89f4-6436c66928fa"
      },
      "execution_count": 12,
      "outputs": [
        {
          "output_type": "stream",
          "name": "stdout",
          "text": [
            "Drive already mounted at /content/drive; to attempt to forcibly remount, call drive.mount(\"/content/drive\", force_remount=True).\n"
          ]
        }
      ]
    },
    {
      "cell_type": "code",
      "source": [
        "df = pd.read_csv(\"/content/drive/MyDrive/MD/TPGENERAL/datos_tp.csv\",sep=';')\n",
        "df.head()"
      ],
      "metadata": {
        "colab": {
          "base_uri": "https://localhost:8080/",
          "height": 206
        },
        "id": "gnYiE-t3G0m4",
        "outputId": "b815fe86-b0ba-43dc-da48-3179f4046b78"
      },
      "execution_count": 16,
      "outputs": [
        {
          "output_type": "execute_result",
          "data": {
            "text/plain": [
              "   anio region_sanitaria   municipio_id municipio_nombre  CIE10_codigo  \\\n",
              "0  2009          Ignorado          6999          Ignorado          O99   \n",
              "1  2009                VI          6028   Almirante Brown          O85   \n",
              "2  2009                VI          6028   Almirante Brown          O15   \n",
              "3  2009                VI          6028   Almirante Brown          O99   \n",
              "4  2009                IX          6049              Azul          O99   \n",
              "\n",
              "                                   CIE10_descripcion clasificacion  cantidad  \n",
              "0  OTRAS AFECCIONES OBSTETRICAS NO CLASIFICADAS E...     INDIRECTA         1  \n",
              "1  COMPLICACIONES PRINCIPALMENTE RELACIONADAS CON...       DIRECTA         1  \n",
              "2  EDEMA, PROTEINURIA Y TRASTORNOS HIPERTENSIVOS ...       DIRECTA         1  \n",
              "3  OTRAS AFECCIONES OBSTETRICAS NO CLASIFICADAS E...     INDIRECTA         2  \n",
              "4  OTRAS AFECCIONES OBSTETRICAS NO CLASIFICADAS E...     INDIRECTA         1  "
            ],
            "text/html": [
              "\n",
              "  <div id=\"df-02c07571-bee2-4c8d-87e1-f0d8637b0ba8\" class=\"colab-df-container\">\n",
              "    <div>\n",
              "<style scoped>\n",
              "    .dataframe tbody tr th:only-of-type {\n",
              "        vertical-align: middle;\n",
              "    }\n",
              "\n",
              "    .dataframe tbody tr th {\n",
              "        vertical-align: top;\n",
              "    }\n",
              "\n",
              "    .dataframe thead th {\n",
              "        text-align: right;\n",
              "    }\n",
              "</style>\n",
              "<table border=\"1\" class=\"dataframe\">\n",
              "  <thead>\n",
              "    <tr style=\"text-align: right;\">\n",
              "      <th></th>\n",
              "      <th>anio</th>\n",
              "      <th>region_sanitaria</th>\n",
              "      <th>municipio_id</th>\n",
              "      <th>municipio_nombre</th>\n",
              "      <th>CIE10_codigo</th>\n",
              "      <th>CIE10_descripcion</th>\n",
              "      <th>clasificacion</th>\n",
              "      <th>cantidad</th>\n",
              "    </tr>\n",
              "  </thead>\n",
              "  <tbody>\n",
              "    <tr>\n",
              "      <th>0</th>\n",
              "      <td>2009</td>\n",
              "      <td>Ignorado</td>\n",
              "      <td>6999</td>\n",
              "      <td>Ignorado</td>\n",
              "      <td>O99</td>\n",
              "      <td>OTRAS AFECCIONES OBSTETRICAS NO CLASIFICADAS E...</td>\n",
              "      <td>INDIRECTA</td>\n",
              "      <td>1</td>\n",
              "    </tr>\n",
              "    <tr>\n",
              "      <th>1</th>\n",
              "      <td>2009</td>\n",
              "      <td>VI</td>\n",
              "      <td>6028</td>\n",
              "      <td>Almirante Brown</td>\n",
              "      <td>O85</td>\n",
              "      <td>COMPLICACIONES PRINCIPALMENTE RELACIONADAS CON...</td>\n",
              "      <td>DIRECTA</td>\n",
              "      <td>1</td>\n",
              "    </tr>\n",
              "    <tr>\n",
              "      <th>2</th>\n",
              "      <td>2009</td>\n",
              "      <td>VI</td>\n",
              "      <td>6028</td>\n",
              "      <td>Almirante Brown</td>\n",
              "      <td>O15</td>\n",
              "      <td>EDEMA, PROTEINURIA Y TRASTORNOS HIPERTENSIVOS ...</td>\n",
              "      <td>DIRECTA</td>\n",
              "      <td>1</td>\n",
              "    </tr>\n",
              "    <tr>\n",
              "      <th>3</th>\n",
              "      <td>2009</td>\n",
              "      <td>VI</td>\n",
              "      <td>6028</td>\n",
              "      <td>Almirante Brown</td>\n",
              "      <td>O99</td>\n",
              "      <td>OTRAS AFECCIONES OBSTETRICAS NO CLASIFICADAS E...</td>\n",
              "      <td>INDIRECTA</td>\n",
              "      <td>2</td>\n",
              "    </tr>\n",
              "    <tr>\n",
              "      <th>4</th>\n",
              "      <td>2009</td>\n",
              "      <td>IX</td>\n",
              "      <td>6049</td>\n",
              "      <td>Azul</td>\n",
              "      <td>O99</td>\n",
              "      <td>OTRAS AFECCIONES OBSTETRICAS NO CLASIFICADAS E...</td>\n",
              "      <td>INDIRECTA</td>\n",
              "      <td>1</td>\n",
              "    </tr>\n",
              "  </tbody>\n",
              "</table>\n",
              "</div>\n",
              "    <div class=\"colab-df-buttons\">\n",
              "\n",
              "  <div class=\"colab-df-container\">\n",
              "    <button class=\"colab-df-convert\" onclick=\"convertToInteractive('df-02c07571-bee2-4c8d-87e1-f0d8637b0ba8')\"\n",
              "            title=\"Convert this dataframe to an interactive table.\"\n",
              "            style=\"display:none;\">\n",
              "\n",
              "  <svg xmlns=\"http://www.w3.org/2000/svg\" height=\"24px\" viewBox=\"0 -960 960 960\">\n",
              "    <path d=\"M120-120v-720h720v720H120Zm60-500h600v-160H180v160Zm220 220h160v-160H400v160Zm0 220h160v-160H400v160ZM180-400h160v-160H180v160Zm440 0h160v-160H620v160ZM180-180h160v-160H180v160Zm440 0h160v-160H620v160Z\"/>\n",
              "  </svg>\n",
              "    </button>\n",
              "\n",
              "  <style>\n",
              "    .colab-df-container {\n",
              "      display:flex;\n",
              "      gap: 12px;\n",
              "    }\n",
              "\n",
              "    .colab-df-convert {\n",
              "      background-color: #E8F0FE;\n",
              "      border: none;\n",
              "      border-radius: 50%;\n",
              "      cursor: pointer;\n",
              "      display: none;\n",
              "      fill: #1967D2;\n",
              "      height: 32px;\n",
              "      padding: 0 0 0 0;\n",
              "      width: 32px;\n",
              "    }\n",
              "\n",
              "    .colab-df-convert:hover {\n",
              "      background-color: #E2EBFA;\n",
              "      box-shadow: 0px 1px 2px rgba(60, 64, 67, 0.3), 0px 1px 3px 1px rgba(60, 64, 67, 0.15);\n",
              "      fill: #174EA6;\n",
              "    }\n",
              "\n",
              "    .colab-df-buttons div {\n",
              "      margin-bottom: 4px;\n",
              "    }\n",
              "\n",
              "    [theme=dark] .colab-df-convert {\n",
              "      background-color: #3B4455;\n",
              "      fill: #D2E3FC;\n",
              "    }\n",
              "\n",
              "    [theme=dark] .colab-df-convert:hover {\n",
              "      background-color: #434B5C;\n",
              "      box-shadow: 0px 1px 3px 1px rgba(0, 0, 0, 0.15);\n",
              "      filter: drop-shadow(0px 1px 2px rgba(0, 0, 0, 0.3));\n",
              "      fill: #FFFFFF;\n",
              "    }\n",
              "  </style>\n",
              "\n",
              "    <script>\n",
              "      const buttonEl =\n",
              "        document.querySelector('#df-02c07571-bee2-4c8d-87e1-f0d8637b0ba8 button.colab-df-convert');\n",
              "      buttonEl.style.display =\n",
              "        google.colab.kernel.accessAllowed ? 'block' : 'none';\n",
              "\n",
              "      async function convertToInteractive(key) {\n",
              "        const element = document.querySelector('#df-02c07571-bee2-4c8d-87e1-f0d8637b0ba8');\n",
              "        const dataTable =\n",
              "          await google.colab.kernel.invokeFunction('convertToInteractive',\n",
              "                                                    [key], {});\n",
              "        if (!dataTable) return;\n",
              "\n",
              "        const docLinkHtml = 'Like what you see? Visit the ' +\n",
              "          '<a target=\"_blank\" href=https://colab.research.google.com/notebooks/data_table.ipynb>data table notebook</a>'\n",
              "          + ' to learn more about interactive tables.';\n",
              "        element.innerHTML = '';\n",
              "        dataTable['output_type'] = 'display_data';\n",
              "        await google.colab.output.renderOutput(dataTable, element);\n",
              "        const docLink = document.createElement('div');\n",
              "        docLink.innerHTML = docLinkHtml;\n",
              "        element.appendChild(docLink);\n",
              "      }\n",
              "    </script>\n",
              "  </div>\n",
              "\n",
              "\n",
              "    <div id=\"df-05f94130-927e-4366-b38f-504358b9cccc\">\n",
              "      <button class=\"colab-df-quickchart\" onclick=\"quickchart('df-05f94130-927e-4366-b38f-504358b9cccc')\"\n",
              "                title=\"Suggest charts\"\n",
              "                style=\"display:none;\">\n",
              "\n",
              "<svg xmlns=\"http://www.w3.org/2000/svg\" height=\"24px\"viewBox=\"0 0 24 24\"\n",
              "     width=\"24px\">\n",
              "    <g>\n",
              "        <path d=\"M19 3H5c-1.1 0-2 .9-2 2v14c0 1.1.9 2 2 2h14c1.1 0 2-.9 2-2V5c0-1.1-.9-2-2-2zM9 17H7v-7h2v7zm4 0h-2V7h2v10zm4 0h-2v-4h2v4z\"/>\n",
              "    </g>\n",
              "</svg>\n",
              "      </button>\n",
              "\n",
              "<style>\n",
              "  .colab-df-quickchart {\n",
              "      --bg-color: #E8F0FE;\n",
              "      --fill-color: #1967D2;\n",
              "      --hover-bg-color: #E2EBFA;\n",
              "      --hover-fill-color: #174EA6;\n",
              "      --disabled-fill-color: #AAA;\n",
              "      --disabled-bg-color: #DDD;\n",
              "  }\n",
              "\n",
              "  [theme=dark] .colab-df-quickchart {\n",
              "      --bg-color: #3B4455;\n",
              "      --fill-color: #D2E3FC;\n",
              "      --hover-bg-color: #434B5C;\n",
              "      --hover-fill-color: #FFFFFF;\n",
              "      --disabled-bg-color: #3B4455;\n",
              "      --disabled-fill-color: #666;\n",
              "  }\n",
              "\n",
              "  .colab-df-quickchart {\n",
              "    background-color: var(--bg-color);\n",
              "    border: none;\n",
              "    border-radius: 50%;\n",
              "    cursor: pointer;\n",
              "    display: none;\n",
              "    fill: var(--fill-color);\n",
              "    height: 32px;\n",
              "    padding: 0;\n",
              "    width: 32px;\n",
              "  }\n",
              "\n",
              "  .colab-df-quickchart:hover {\n",
              "    background-color: var(--hover-bg-color);\n",
              "    box-shadow: 0 1px 2px rgba(60, 64, 67, 0.3), 0 1px 3px 1px rgba(60, 64, 67, 0.15);\n",
              "    fill: var(--button-hover-fill-color);\n",
              "  }\n",
              "\n",
              "  .colab-df-quickchart-complete:disabled,\n",
              "  .colab-df-quickchart-complete:disabled:hover {\n",
              "    background-color: var(--disabled-bg-color);\n",
              "    fill: var(--disabled-fill-color);\n",
              "    box-shadow: none;\n",
              "  }\n",
              "\n",
              "  .colab-df-spinner {\n",
              "    border: 2px solid var(--fill-color);\n",
              "    border-color: transparent;\n",
              "    border-bottom-color: var(--fill-color);\n",
              "    animation:\n",
              "      spin 1s steps(1) infinite;\n",
              "  }\n",
              "\n",
              "  @keyframes spin {\n",
              "    0% {\n",
              "      border-color: transparent;\n",
              "      border-bottom-color: var(--fill-color);\n",
              "      border-left-color: var(--fill-color);\n",
              "    }\n",
              "    20% {\n",
              "      border-color: transparent;\n",
              "      border-left-color: var(--fill-color);\n",
              "      border-top-color: var(--fill-color);\n",
              "    }\n",
              "    30% {\n",
              "      border-color: transparent;\n",
              "      border-left-color: var(--fill-color);\n",
              "      border-top-color: var(--fill-color);\n",
              "      border-right-color: var(--fill-color);\n",
              "    }\n",
              "    40% {\n",
              "      border-color: transparent;\n",
              "      border-right-color: var(--fill-color);\n",
              "      border-top-color: var(--fill-color);\n",
              "    }\n",
              "    60% {\n",
              "      border-color: transparent;\n",
              "      border-right-color: var(--fill-color);\n",
              "    }\n",
              "    80% {\n",
              "      border-color: transparent;\n",
              "      border-right-color: var(--fill-color);\n",
              "      border-bottom-color: var(--fill-color);\n",
              "    }\n",
              "    90% {\n",
              "      border-color: transparent;\n",
              "      border-bottom-color: var(--fill-color);\n",
              "    }\n",
              "  }\n",
              "</style>\n",
              "\n",
              "      <script>\n",
              "        async function quickchart(key) {\n",
              "          const quickchartButtonEl =\n",
              "            document.querySelector('#' + key + ' button');\n",
              "          quickchartButtonEl.disabled = true;  // To prevent multiple clicks.\n",
              "          quickchartButtonEl.classList.add('colab-df-spinner');\n",
              "          try {\n",
              "            const charts = await google.colab.kernel.invokeFunction(\n",
              "                'suggestCharts', [key], {});\n",
              "          } catch (error) {\n",
              "            console.error('Error during call to suggestCharts:', error);\n",
              "          }\n",
              "          quickchartButtonEl.classList.remove('colab-df-spinner');\n",
              "          quickchartButtonEl.classList.add('colab-df-quickchart-complete');\n",
              "        }\n",
              "        (() => {\n",
              "          let quickchartButtonEl =\n",
              "            document.querySelector('#df-05f94130-927e-4366-b38f-504358b9cccc button');\n",
              "          quickchartButtonEl.style.display =\n",
              "            google.colab.kernel.accessAllowed ? 'block' : 'none';\n",
              "        })();\n",
              "      </script>\n",
              "    </div>\n",
              "\n",
              "    </div>\n",
              "  </div>\n"
            ],
            "application/vnd.google.colaboratory.intrinsic+json": {
              "type": "dataframe",
              "variable_name": "df",
              "summary": "{\n  \"name\": \"df\",\n  \"rows\": 1100,\n  \"fields\": [\n    {\n      \"column\": \"anio\",\n      \"properties\": {\n        \"dtype\": \"number\",\n        \"std\": 4,\n        \"min\": 2009,\n        \"max\": 2023,\n        \"num_unique_values\": 15,\n        \"samples\": [\n          2018,\n          2020,\n          2009\n        ],\n        \"semantic_type\": \"\",\n        \"description\": \"\"\n      }\n    },\n    {\n      \"column\": \"region_sanitaria\\u00a0\",\n      \"properties\": {\n        \"dtype\": \"category\",\n        \"num_unique_values\": 14,\n        \"samples\": [\n          \"VII\",\n          \"X\",\n          \"Ignorado\"\n        ],\n        \"semantic_type\": \"\",\n        \"description\": \"\"\n      }\n    },\n    {\n      \"column\": \"municipio_id\",\n      \"properties\": {\n        \"dtype\": \"number\",\n        \"std\": 230,\n        \"min\": 6007,\n        \"max\": 6999,\n        \"num_unique_values\": 108,\n        \"samples\": [\n          6511,\n          6260,\n          6091\n        ],\n        \"semantic_type\": \"\",\n        \"description\": \"\"\n      }\n    },\n    {\n      \"column\": \"municipio_nombre\\u00a0\",\n      \"properties\": {\n        \"dtype\": \"category\",\n        \"num_unique_values\": 108,\n        \"samples\": [\n          \"Maip\\u00fa\",\n          \"Esteban Echeverr\\u00eda\",\n          \"Berazategui\"\n        ],\n        \"semantic_type\": \"\",\n        \"description\": \"\"\n      }\n    },\n    {\n      \"column\": \"CIE10_codigo\",\n      \"properties\": {\n        \"dtype\": \"category\",\n        \"num_unique_values\": 45,\n        \"samples\": [\n          \"O70\",\n          \"O73\",\n          \"O86\"\n        ],\n        \"semantic_type\": \"\",\n        \"description\": \"\"\n      }\n    },\n    {\n      \"column\": \"CIE10_descripcion\",\n      \"properties\": {\n        \"dtype\": \"category\",\n        \"num_unique_values\": 9,\n        \"samples\": [\n          \"ATENCION MATERNA RELACIONADA CON EL FETO Y LA CAVIDAD AMNIOTICA Y CON POSIBLES PROBLEMAS DEL PARTO (O30-O48)\",\n          \"COMPLICACIONES PRINCIPALMENTE RELACIONADAS CON EL PUERPERIO (O85 - O92)\",\n          \"EMBARAZO TERMINADO EN ABORTO (O00 - O08)\"\n        ],\n        \"semantic_type\": \"\",\n        \"description\": \"\"\n      }\n    },\n    {\n      \"column\": \"clasificacion\",\n      \"properties\": {\n        \"dtype\": \"category\",\n        \"num_unique_values\": 2,\n        \"samples\": [\n          \"DIRECTA\",\n          \"INDIRECTA\"\n        ],\n        \"semantic_type\": \"\",\n        \"description\": \"\"\n      }\n    },\n    {\n      \"column\": \"cantidad\",\n      \"properties\": {\n        \"dtype\": \"number\",\n        \"std\": 0,\n        \"min\": 1,\n        \"max\": 10,\n        \"num_unique_values\": 6,\n        \"samples\": [\n          1,\n          2\n        ],\n        \"semantic_type\": \"\",\n        \"description\": \"\"\n      }\n    }\n  ]\n}"
            }
          },
          "metadata": {},
          "execution_count": 16
        }
      ]
    },
    {
      "cell_type": "markdown",
      "source": [
        "## Limpieza de datos"
      ],
      "metadata": {
        "id": "oOG6tjudIKr-"
      }
    },
    {
      "cell_type": "code",
      "source": [
        "#valores nulos"
      ],
      "metadata": {
        "id": "LTb3ADhQINpv"
      },
      "execution_count": null,
      "outputs": []
    },
    {
      "cell_type": "code",
      "source": [
        "#reemplazar los ceros"
      ],
      "metadata": {
        "id": "WrS2OkSrKbu7"
      },
      "execution_count": null,
      "outputs": []
    },
    {
      "cell_type": "markdown",
      "source": [
        "## Hipótesis"
      ],
      "metadata": {
        "id": "LvrbDBw4MhDA"
      }
    },
    {
      "cell_type": "markdown",
      "source": [
        "*Las muertes maternas clasificadas como indirectas han mostrado una tendencia creciente en determinadas regiones sanitarias de la provincia de Buenos Aires entre 2009 y 2023, lo que podría estar relacionado con inequidades territoriales en el acceso a servicios de salud especializados.*"
      ],
      "metadata": {
        "id": "alE5ysT9MkTc"
      }
    },
    {
      "cell_type": "markdown",
      "source": [
        "## Gráficos exploratorios"
      ],
      "metadata": {
        "id": "b8stxA60LRI-"
      }
    },
    {
      "cell_type": "markdown",
      "source": [
        "**1. Evolución temporal (2009–2023)**\n",
        "\n",
        "El gráfico siguiente muestra la evolución de muertes maternas diferenciadas por tipo de causa:\n",
        "\n",
        "Se observa que las muertes por causas indirectas superan a las directas en muchos de los años analizados. Particularmente preocupante es el repunte de causas indirectas en años recientes, lo cual refuerza la hipótesis sobre el peso creciente de enfermedades preexistentes o atención tardía en entornos más vulnerables."
      ],
      "metadata": {
        "id": "vRaqWukYLVPN"
      }
    },
    {
      "cell_type": "code",
      "source": [
        "plt.style.use('ggplot')\n",
        "plt.rcParams['figure.figsize'] = (12, 6)\n",
        "sns.set_palette(\"husl\")\n",
        "\n",
        "def plot_muertes_por_anio(df):\n",
        "    plt.figure(figsize=(14, 6))\n",
        "    ax = sns.countplot(data=df, x='anio', hue='clasificacion')\n",
        "    plt.title('Evolución de Defunciones Maternas por Año y Clasificación', fontsize=16)\n",
        "    plt.xlabel('Año', fontsize=14)\n",
        "    plt.ylabel('Número de Defunciones', fontsize=14)\n",
        "    plt.legend(title='Clasificación', bbox_to_anchor=(1.05, 1), loc='upper left')\n",
        "\n",
        "    # Agregar etiquetas con los totales\n",
        "    for p in ax.patches:\n",
        "        ax.annotate(f'{int(p.get_height())}',\n",
        "                    (p.get_x() + p.get_width() / 2., p.get_height()),\n",
        "                    ha='center', va='center',\n",
        "                    xytext=(0, 5),\n",
        "                    textcoords='offset points')\n",
        "\n",
        "    plt.tight_layout()\n",
        "    plt.show()"
      ],
      "metadata": {
        "id": "abLtqieRLxNC"
      },
      "execution_count": 21,
      "outputs": []
    },
    {
      "cell_type": "markdown",
      "source": [
        "**2. Distribución geográfica**\n",
        "\n",
        "Número de muertes por municipio o región sanitaria."
      ],
      "metadata": {
        "id": "sgvt9uFkMvJL"
      }
    },
    {
      "cell_type": "code",
      "source": [
        "#codigo"
      ],
      "metadata": {
        "id": "57V-HhlSMz_Y"
      },
      "execution_count": null,
      "outputs": []
    },
    {
      "cell_type": "markdown",
      "source": [
        "**3. Causas más frecuentes (según CIE10)**\n",
        "\n",
        "Comparación entre causas más frecuentes."
      ],
      "metadata": {
        "id": "p1RHKIiwM1lE"
      }
    },
    {
      "cell_type": "code",
      "source": [
        "#codigo"
      ],
      "metadata": {
        "id": "-dHMBJquNIkZ"
      },
      "execution_count": null,
      "outputs": []
    },
    {
      "cell_type": "markdown",
      "source": [],
      "metadata": {
        "id": "KsjQfJJ2NKdx"
      }
    }
  ]
}